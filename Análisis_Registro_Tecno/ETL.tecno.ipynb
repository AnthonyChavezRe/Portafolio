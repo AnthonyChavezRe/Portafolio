{
 "cells": [
  {
   "cell_type": "code",
   "execution_count": 3,
   "id": "a74db789",
   "metadata": {},
   "outputs": [
    {
     "data": {
      "text/plain": [
       "{'Registros_2020-2022':        Fecha     País       Marca                       Cliente      Ingresos  \\\n",
       " 0 2020-01-01    Chile      NexTec      Instituciones educativas    4613.76000   \n",
       " 1 2020-01-01    Chile  Innovatech          Consumidores finales   33615.00000   \n",
       " 2 2020-01-01    Chile   Cybernova                Sector público  115952.31648   \n",
       " 3 2020-01-01   México    NeuroNet  Pequeñas y medianas empresas  132046.20000   \n",
       " 4 2020-01-01  Uruguay    NeuroNet              Grandes clientes   19914.87600   \n",
       " \n",
       "        Gastos  \n",
       " 0    3456.000  \n",
       " 1   14566.500  \n",
       " 2   86274.045  \n",
       " 3  111150.000  \n",
       " 4   15398.100  }"
      ]
     },
     "execution_count": 3,
     "metadata": {},
     "output_type": "execute_result"
    }
   ],
   "source": [
    "import pandas as pd\n",
    "\n",
    "# Leer todas las hojas del archivo Excel\n",
    "excel_path = \"Registros_FuturoTecno.xlsx\"\n",
    "xls = pd.read_excel(excel_path, sheet_name=None)\n",
    "\n",
    "# Mostrar los nombres de las hojas y las primeras filas de cada una\n",
    "sheet_previews = {sheet_name: df.head(5) for sheet_name, df in xls.items()}\n",
    "sheet_previews\n"
   ]
  },
  {
   "cell_type": "code",
   "execution_count": 4,
   "id": "e67b187a",
   "metadata": {},
   "outputs": [],
   "source": [
    "# Extraer el DataFrame principal\n",
    "df = xls['Registros_2020-2022'].copy()"
   ]
  },
  {
   "cell_type": "code",
   "execution_count": 6,
   "id": "5635cd94",
   "metadata": {},
   "outputs": [],
   "source": [
    "# Verificar tipos de datos iniciales y nulos \n",
    "info_inicial = {\n",
    "    \"data_types\": df.dtypes.to_dict(),\n",
    "    \"data_count\": df.count().to_dict(),\n",
    "    \"null_count\": df.isnull().sum().to_dict(),\n",
    "    \"duplicates\": df.duplicated().sum()\n",
    "}"
   ]
  },
  {
   "cell_type": "code",
   "execution_count": 10,
   "id": "2bbe04d3",
   "metadata": {},
   "outputs": [
    {
     "name": "stderr",
     "output_type": "stream",
     "text": [
      "C:\\Users\\HP\\AppData\\Local\\Temp\\ipykernel_604\\1748445975.py:10: FutureWarning: DataFrame.applymap has been deprecated. Use DataFrame.map instead.\n",
      "  ddf = df.applymap(lambda x: x.strip() if isinstance(x, str) else x)\n"
     ]
    }
   ],
   "source": [
    "# Limpieza de datos\n",
    "\n",
    "# quitar espacios en los nombres de columnas\n",
    "df.columns = df.columns.str.strip()\n",
    "# eliminar filas completasmente vacias\n",
    "df.dropna(how='all', inplace=True)\n",
    "# eliminamos duplicados\n",
    "df.drop_duplicates(inplace=True)\n",
    "# eliminamos espacios en los valores tipo string\n",
    "ddf = df.applymap(lambda x: x.strip() if isinstance(x, str) else x)\n",
    "# Convertir columnas a tipos adecuados\n",
    "df['Fecha'] = pd.to_datetime(df['Fecha'], errors = 'coerce')\n",
    "df = df[df['Fecha'].notnull()]  # Eliminar filas con fechas inválidas\n",
    "# eliminar final con nulos restantes\n",
    "df.dropna(inplace=True)\n",
    "#Verifica posterior a limpieza\n",
    "info_after = {\n",
    "    \"data_types\": df.dtypes.to_dict(),\n",
    "    \"null_counts\": df.isnull().sum().to_dict(),\n",
    "    \"duplicates\": df.duplicated().sum()\n",
    "}"
   ]
  },
  {
   "cell_type": "code",
   "execution_count": 12,
   "id": "a09bbc75",
   "metadata": {},
   "outputs": [
    {
     "data": {
      "text/plain": [
       "({'data_types': {'Fecha': dtype('<M8[ns]'),\n",
       "   'País': dtype('O'),\n",
       "   'Marca': dtype('O'),\n",
       "   'Cliente': dtype('O'),\n",
       "   'Ingresos': dtype('float64'),\n",
       "   'Gastos': dtype('float64')},\n",
       "  'data_count': {'Fecha': 1644,\n",
       "   'País': 1644,\n",
       "   'Marca': 1644,\n",
       "   'Cliente': 1644,\n",
       "   'Ingresos': 1644,\n",
       "   'Gastos': 1644},\n",
       "  'null_count': {'Fecha': 0,\n",
       "   'País': 0,\n",
       "   'Marca': 0,\n",
       "   'Cliente': 0,\n",
       "   'Ingresos': 0,\n",
       "   'Gastos': 0},\n",
       "  'duplicates': 0},\n",
       " {'data_types': {'Fecha': dtype('<M8[ns]'),\n",
       "   'País': dtype('O'),\n",
       "   'Marca': dtype('O'),\n",
       "   'Cliente': dtype('O'),\n",
       "   'Ingresos': dtype('float64'),\n",
       "   'Gastos': dtype('float64')},\n",
       "  'null_counts': {'Fecha': 0,\n",
       "   'País': 0,\n",
       "   'Marca': 0,\n",
       "   'Cliente': 0,\n",
       "   'Ingresos': 0,\n",
       "   'Gastos': 0},\n",
       "  'duplicates': 0},\n",
       " 'Registros_FuturoTecno_Limpio.xlsx')"
      ]
     },
     "execution_count": 12,
     "metadata": {},
     "output_type": "execute_result"
    }
   ],
   "source": [
    "# Guardar el DataFrame limpio\n",
    "clean_path = \"Registros_FuturoTecno_Limpio.xlsx\"\n",
    "df.to_excel(clean_path, index=False)\n",
    "\n",
    "info_inicial, info_after, clean_path"
   ]
  },
  {
   "cell_type": "code",
   "execution_count": null,
   "id": "ae000658",
   "metadata": {},
   "outputs": [],
   "source": []
  }
 ],
 "metadata": {
  "kernelspec": {
   "display_name": "base",
   "language": "python",
   "name": "python3"
  },
  "language_info": {
   "codemirror_mode": {
    "name": "ipython",
    "version": 3
   },
   "file_extension": ".py",
   "mimetype": "text/x-python",
   "name": "python",
   "nbconvert_exporter": "python",
   "pygments_lexer": "ipython3",
   "version": "3.12.7"
  }
 },
 "nbformat": 4,
 "nbformat_minor": 5
}
